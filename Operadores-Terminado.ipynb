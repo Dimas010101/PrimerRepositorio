{
 "cells": [
  {
   "cell_type": "markdown",
   "metadata": {},
   "source": [
    "## Operadores - Actividad"
   ]
  },
  {
   "cell_type": "markdown",
   "metadata": {},
   "source": [
    "1) Pedir al usuario dos números y mostrar por pantalla la suma de ellos."
   ]
  },
  {
   "cell_type": "code",
   "execution_count": 96,
   "metadata": {},
   "outputs": [
    {
     "name": "stdout",
     "output_type": "stream",
     "text": [
      "46\n"
     ]
    }
   ],
   "source": [
    "numero1 = int(input(\"Ingrese un numero: \"))\n",
    "numero2 = int(input(\"Ingrese otro numero: \"))\n",
    "\n",
    "print(numero1 + numero2)"
   ]
  },
  {
   "cell_type": "markdown",
   "metadata": {},
   "source": [
    "2) Calcular el perímetro y área de un rectángulo dada su base y su altura (el usuario debe introducir por teclado los dos valores)."
   ]
  },
  {
   "cell_type": "code",
   "execution_count": 1,
   "metadata": {},
   "outputs": [
    {
     "name": "stdout",
     "output_type": "stream",
     "text": [
      "529\n",
      "92\n"
     ]
    }
   ],
   "source": [
    "altura = int(input(\"Ingrese un valor: \"))\n",
    "base = int(input(\"Ingrese un valor: \"))\n",
    "resultado1 = altura * base\n",
    "resultado2 = altura + base + base + altura\n",
    "\n",
    "print(altura * base)\n",
    "print(resultado2)\n"
   ]
  },
  {
   "cell_type": "markdown",
   "metadata": {},
   "source": [
    "3) Calcular el resultado de elevar un número entero a otro número entero (por ejemplo, 5 elevado a 3 = 5^3 = 5*5*5)."
   ]
  },
  {
   "cell_type": "code",
   "execution_count": null,
   "metadata": {},
   "outputs": [
    {
     "name": "stdout",
     "output_type": "stream",
     "text": [
      "125\n"
     ]
    }
   ],
   "source": [
    "numero3 = int(input(\"Ingrese un valor: \"))\n",
    "numero4 = int(input(\"Ingrese otro valor: \"))\n",
    "resultado = numero3 ** numero4 \n",
    "\n",
    "print(resultado)"
   ]
  },
  {
   "cell_type": "markdown",
   "metadata": {},
   "source": [
    "4) Escribe un programa que convierta grados Celsius a grados Fahrenheit utilizando la fórmula: **F = (C * 9/5) + 32**"
   ]
  },
  {
   "cell_type": "code",
   "execution_count": null,
   "metadata": {},
   "outputs": [
    {
     "name": "stdout",
     "output_type": "stream",
     "text": [
      "176.0\n"
     ]
    }
   ],
   "source": [
    "celsius = int(input(\"Ingrese un valor: \"))\n",
    "\n",
    "print(celsius * 9/5 + 32)"
   ]
  },
  {
   "cell_type": "markdown",
   "metadata": {},
   "source": [
    "5) Pedir al usuario su edad y mostrar por pantalla si es mayor de edad o no. (Mayor de edad >= 18)"
   ]
  },
  {
   "cell_type": "code",
   "execution_count": null,
   "metadata": {},
   "outputs": [
    {
     "name": "stdout",
     "output_type": "stream",
     "text": [
      "False\n"
     ]
    }
   ],
   "source": [
    "edad = int(input(\"Ingrese su edad: \"))\n",
    "print(edad >= 18)"
   ]
  },
  {
   "cell_type": "markdown",
   "metadata": {},
   "source": [
    "6) Comprobar si el numero ingresado por el usuario es par o impar."
   ]
  },
  {
   "cell_type": "code",
   "execution_count": 5,
   "metadata": {},
   "outputs": [
    {
     "name": "stdout",
     "output_type": "stream",
     "text": [
      "True\n"
     ]
    }
   ],
   "source": [
    "pares = [2, 4, 6, 8, 10, 12, 14, 16, 18, 20, 22, 24, 26, 28, 30, 32, 34, 36, 38, 40, 42, 44, 46, 48, 50]\n",
    "impares = [1, 3, 5, 7, 9, 11, 13, 15, 17, 19, 21, 23, 25, 27, 29, 31, 33, 35, 37, 39, 41, 43, 45, 47, 49, 51]\n",
    "\n",
    "print(2 in pares)\n",
    "\n"
   ]
  },
  {
   "cell_type": "markdown",
   "metadata": {},
   "source": [
    "7) Pedir al usuario que ingrese su dirección email y luego mostrar un mensaje indicando si la dirección es válida o no. Una dirección se considerará válida si contiene el símbolo \"@\"."
   ]
  },
  {
   "cell_type": "code",
   "execution_count": 25,
   "metadata": {},
   "outputs": [
    {
     "name": "stdout",
     "output_type": "stream",
     "text": [
      "La direccion es valida\n"
     ]
    }
   ],
   "source": [
    "gmail = (input(\"Ingrese su gmail: \"))\n",
    "valida = gmail.find(\"@\") !=-1\n",
    "\n",
    "\n",
    "print(\"La direccion es valida\" * valida or \"la direccion no es valida \")\n",
    "\n",
    "# con if\n",
    "\n",
    "#if valida and gmail:\n",
    "   # print(\"La direccion es valida\")\n",
    "#else:\n",
    "   # print(\"La direccion no es valida\")\n",
    "\n"
   ]
  },
  {
   "cell_type": "markdown",
   "metadata": {},
   "source": [
    "8) Dado un número de dos cifras, diseñe un algoritmo que permita obtener el número invertido. Ejemplo, si se introduce 23 que muestre 32. (Recordar que las cadenas pueden tratarse como listas de caracteres)."
   ]
  },
  {
   "cell_type": "code",
   "execution_count": 33,
   "metadata": {},
   "outputs": [
    {
     "name": "stdout",
     "output_type": "stream",
     "text": [
      "Numero invertido:  54\n"
     ]
    }
   ],
   "source": [
    "numero_invertido = ((input(\"Ingrese un numero de dos cifras\")))\n",
    "\n",
    "print(\"Numero invertido: \", numero_invertido[::-1])"
   ]
  },
  {
   "cell_type": "markdown",
   "metadata": {},
   "source": [
    "9) Crea un programa que pida al usuario dos números y muestre True si ambos son mayores que 10."
   ]
  },
  {
   "cell_type": "code",
   "execution_count": 45,
   "metadata": {},
   "outputs": [
    {
     "name": "stdout",
     "output_type": "stream",
     "text": [
      "False\n",
      "False\n"
     ]
    }
   ],
   "source": [
    "numero1 = (int(input(\"Ingrese un valor: \")))\n",
    "numero2 = (int(input(\"Ingrese otro valor\")))\n",
    "\n",
    "print(numero1 >= 10) \n",
    "print(numero2 >= 10)"
   ]
  },
  {
   "cell_type": "markdown",
   "metadata": {},
   "source": [
    "10) Escribe un programa que verifique si un número ingresado por el usuario es divisible por 3 y por 5."
   ]
  },
  {
   "cell_type": "code",
   "execution_count": 93,
   "metadata": {},
   "outputs": [
    {
     "name": "stdout",
     "output_type": "stream",
     "text": [
      "El numero ingresado es divisible por 3 y por 5\n"
     ]
    }
   ],
   "source": [
    "numero3 = (int(input(\"Ingrese un numero: \")))\n",
    "divisible = (numero3 % 3 == 0) or (numero3 % 5 == 0)\n",
    "\n",
    "\n",
    "print(\"El numero ingresado es divisible por 3 y por 5\" * divisible) \n",
    "\n"
   ]
  },
  {
   "cell_type": "markdown",
   "metadata": {},
   "source": [
    "11) Utilizando la información del punto 5, preguntar al usuario si posee carnet de conducir, luego verificar si puede conducir un automóvil."
   ]
  },
  {
   "cell_type": "code",
   "execution_count": 249,
   "metadata": {},
   "outputs": [
    {
     "name": "stdout",
     "output_type": "stream",
     "text": [
      "No tiene carnet y puede conducir.\n"
     ]
    }
   ],
   "source": [
    "carnet = (int(input(\"Tiene carnet? :\")))\n",
    "edad1 = (int(input(\"Ingrese su edad\")))\n",
    "valor2 = carnet >= 18\n",
    "validacion = edad1 >= 18\n",
    "\n",
    "\n",
    "print(valor2 and \"Tiene carnet\" or \"No tiene carnet\", validacion and \"y puede conducir.\" or \"y no puede conducir.\")\n",
    "\n",
    "\n"
   ]
  },
  {
   "cell_type": "markdown",
   "metadata": {},
   "source": [
    "12) Pide al usuario un número y verifica si es positivo y no es mayor que 100."
   ]
  },
  {
   "cell_type": "code",
   "execution_count": 147,
   "metadata": {},
   "outputs": [
    {
     "name": "stdout",
     "output_type": "stream",
     "text": [
      "Es un numero positivo Y es menor que 100\n"
     ]
    }
   ],
   "source": [
    "positivos = list(range(1, 1001))\n",
    "numero4 = (int(input(\"Ingrese un numero\")))\n",
    "\n",
    "print(numero4 in positivos and \"Es un numero positivo\" or \"No es un numero positivo\", numero4 >= 100 and \"Y es mayor que 100\" or \"Y es menor que 100\")"
   ]
  },
  {
   "cell_type": "markdown",
   "metadata": {},
   "source": [
    "13) Crear un programa que valide si un número ingresado por el usuario es par y mayor que 20."
   ]
  },
  {
   "cell_type": "code",
   "execution_count": 239,
   "metadata": {},
   "outputs": [
    {
     "name": "stdout",
     "output_type": "stream",
     "text": [
      "No es un numero par Y es mayor que 20\n"
     ]
    }
   ],
   "source": [
    "par = list(range(2, 101, 2))\n",
    "numero5 = (int(input(\"Ingrese un numero\")))\n",
    "\n",
    "print(numero5 in par and \"Es un numero par\" or \"No es un numero par\", numero5 >= 20 and \"Y es mayor que 20\" or \"Y es menor que 20\")\n"
   ]
  },
  {
   "cell_type": "markdown",
   "metadata": {},
   "source": [
    "14) Dada la variable **numero = 5**, realizar la operación necesaria para que número sea igual a 8. Luego imprimir en pantalla el nuevo valor de número y realizar una nueva operación para que el valor de número sea igual a 4 y mostrar en pantalla el nuevo valor."
   ]
  },
  {
   "cell_type": "code",
   "execution_count": 169,
   "metadata": {},
   "outputs": [
    {
     "name": "stdout",
     "output_type": "stream",
     "text": [
      "5\n",
      "8\n",
      "4\n",
      "5\n",
      "8\n",
      "4\n"
     ]
    }
   ],
   "source": [
    "numero6 = 5\n",
    "print(numero6)\n",
    "nuevovalor = numero6 = 5 + 3\n",
    "print(nuevovalor)\n",
    "nuevovalor2 = nuevovalor = 8 - 4\n",
    "print(nuevovalor2)\n",
    "\n",
    "numero7 = 5\n",
    "print(numero7)\n",
    "numero7 = 8\n",
    "print(numero7)\n",
    "numero7 = 4\n",
    "print(numero7)"
   ]
  },
  {
   "cell_type": "markdown",
   "metadata": {},
   "source": [
    "15) Dadas las variables altura = \"10\" y base = 5, calcular el área de un triángulo y mostrar el resultado en pantalla. ¿Por qué el resultado es un error? ¿Cómo lo corregirías?"
   ]
  },
  {
   "cell_type": "code",
   "execution_count": 179,
   "metadata": {},
   "outputs": [
    {
     "name": "stdout",
     "output_type": "stream",
     "text": [
      "25.0\n"
     ]
    }
   ],
   "source": [
    "# base = 5\n",
    "# altura = \"10\"\n",
    "# resultado = base * altura / 2\n",
    "\n",
    "# print(resultado)\n",
    "\n",
    "# El resultado da error ya que se toma el valor de altura como una cadena de caracteres (str), en vez de tomarlo como deberia ser (int). \n",
    "# Lo corregiria tratando a la altura como un entero, y  no como un string.\n",
    "\n",
    "# CORRECIÓN \n",
    "\n",
    "base = 5\n",
    "altura = int(\"10\")\n",
    "resultado = base * altura / 2\n",
    "\n",
    "print(resultado)\n"
   ]
  },
  {
   "cell_type": "markdown",
   "metadata": {},
   "source": [
    "16) Crea un programa que calcule el promedio de tres calificaciones ingresadas por el usuario, y comprobar si el alumno aprobó o no (aprueba con nota mayor a 6)."
   ]
  },
  {
   "cell_type": "code",
   "execution_count": 214,
   "metadata": {},
   "outputs": [
    {
     "name": "stdout",
     "output_type": "stream",
     "text": [
      "Aprobo Matemática\n",
      "Aprobo Ingles\n",
      "Aprobo Lengua\n"
     ]
    }
   ],
   "source": [
    "nota1 = (int(input(\"Ingrese la nota que ha tenido en la evalución de Matemática: \")))\n",
    "nota2 = (int(input(\"Ingrese la nota que ha tenido en la evalución de Ingles: \")))\n",
    "nota3 = (int(input(\"Ingrese la nota que ha tenido en la evalución de Lengua: \")))\n",
    "\n",
    "\n",
    "print(nota1 >= 6 and \"Aprobo Matemática\" or \"No aprobo Matemática\")\n",
    "print(nota2 >= 6 and \"Aprobo Ingles\" or \"No aprobo Ingles\")\n",
    "print(nota3 >= 6 and \"Aprobo Lengua\" or \"No aprobo Lengua\")"
   ]
  },
  {
   "cell_type": "markdown",
   "metadata": {},
   "source": [
    "17) Pide al usuario su edad y calcula cuántos días, horas y minutos ha vivido aproximadamente (asumiendo 365 días por año)."
   ]
  },
  {
   "cell_type": "code",
   "execution_count": 238,
   "metadata": {},
   "outputs": [
    {
     "name": "stdout",
     "output_type": "stream",
     "text": [
      "Has vivido:  24455 dias,  586920 horas y 35215200 minutos\n"
     ]
    }
   ],
   "source": [
    "edad2 = (int(input(\"Ingrese su edad: \")))\n",
    "\n",
    "dias = edad2 * 365\n",
    "horas = dias * 24\n",
    "minutos = horas * 60\n",
    "\n",
    "print(\"Has vivido: \",dias, \"dias, \", horas,\"horas y\", minutos, \"minutos\")\n",
    "\n"
   ]
  },
  {
   "cell_type": "markdown",
   "metadata": {},
   "source": [
    "18) Crea un programa que verifique si un número ingresado por el usuario es múltiplo de 4 y de 6 al mismo tiempo."
   ]
  },
  {
   "cell_type": "code",
   "execution_count": 2,
   "metadata": {},
   "outputs": [
    {
     "name": "stdout",
     "output_type": "stream",
     "text": [
      "[12, 24, 36, 48, 60, 72, 84, 96]\n",
      "Es multiplo de 4 y 6 \n"
     ]
    }
   ],
   "source": [
    "multiplo = [numero for numero in range(1, 101) if numero % 4 == 0 and numero % 6 == 0  ]\n",
    "numero_ip = (int(input(\"Ingrese un numero: \")))\n",
    "\n",
    "print(numero_ip in multiplo and \"Es multiplo de 4 y 6 \" or \"No es multiplo\")"
   ]
  },
  {
   "cell_type": "markdown",
   "metadata": {},
   "source": [
    "19) "
   ]
  }
 ],
 "metadata": {
  "kernelspec": {
   "display_name": "Python 3",
   "language": "python",
   "name": "python3"
  },
  "language_info": {
   "codemirror_mode": {
    "name": "ipython",
    "version": 3
   },
   "file_extension": ".py",
   "mimetype": "text/x-python",
   "name": "python",
   "nbconvert_exporter": "python",
   "pygments_lexer": "ipython3",
   "version": "3.12.2"
  }
 },
 "nbformat": 4,
 "nbformat_minor": 2
}
